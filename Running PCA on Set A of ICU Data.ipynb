{
 "cells": [
  {
   "cell_type": "code",
   "execution_count": 1,
   "metadata": {},
   "outputs": [],
   "source": [
    "import pandas as pd\n",
    "import numpy as np\n",
    "import datetime as dt\n",
    "import dateutil as du\n",
    "import statsmodels.formula.api as sm\n",
    "import sklearn as sk\n",
    "import sklearn.ensemble as ske\n",
    "from sklearn.decomposition import PCA\n",
    "import scipy as sp\n",
    "import pickle as pc\n",
    "import matplotlib.pylab as py\n",
    "import matplotlib.pyplot as plt\n",
    "from mpl_toolkits.mplot3d import Axes3D\n"
   ]
  },
  {
   "cell_type": "code",
   "execution_count": 2,
   "metadata": {},
   "outputs": [],
   "source": [
    "#Best fit function\n",
    "def linear_func(x, A, b):\n",
    "    return A * x + b"
   ]
  },
  {
   "cell_type": "code",
   "execution_count": 3,
   "metadata": {},
   "outputs": [],
   "source": [
    "# Show plots of interesting correlations\n",
    "def plot_patients(patients):\n",
    "    columns = ['HR','HCT','FiO2','Glucose','Temp','WBC','GCS','Urine','Age','Gender','Length_of_stay'] #Select the columns of interest\n",
    "    for i in np.arange(len(columns)):\n",
    "        for j in np.arange(i+1,len(columns)):\n",
    "            if(i==j):\n",
    "                break\n",
    "            else:       \n",
    "                fig = plt.figure(figsize=(10,10))\n",
    "                params, params_covariance = sp.optimize.curve_fit(linear_func, patients[columns[i]].astype('float').values, patients[columns[j]].astype('float').values,p0=[2, 2])\n",
    "                targets = [ 'Alive','Dead']\n",
    "                colors = ['g', 'r']\n",
    "                for target, color in zip(targets,colors):\n",
    "                    indicesToKeep = patients.index[patients.DeathStatus==target]\n",
    "                    plt.scatter(patients.loc[indicesToKeep, columns[i]]\n",
    "                               , patients.loc[ indicesToKeep, columns[j]]\n",
    "                               , c = color\n",
    "                               , s = 50)\n",
    "                plt.legend(targets)\n",
    "                plt.grid()\n",
    "                plt.plot(patients[columns[i]],linear_func(patients[columns[i]].astype('float').values,params[0],params[1]),color='red')\n",
    "                plt.xlabel(columns[i],size=30)\n",
    "                plt.ylabel(columns[j],size=30)\n",
    "                corr, p_value = sp.stats.pearsonr(patients[columns[i]],patients[columns[j]])\n",
    "                plt.title('Pearson R correlation Coeff: ' + str(round(corr,3)) + ';    p-value: ' + str(round(p_value,3)) + ';    Statistically Signficant: ' + str('Yes' if p_value<0.05 else 'No'), size=20 )\n",
    "\n",
    "    return True"
   ]
  },
  {
   "cell_type": "code",
   "execution_count": 4,
   "metadata": {},
   "outputs": [],
   "source": [
    "#Removes outliers using Winsorize technique in 'HCT','FiO2','Glucose','Temp', and 'WBC', then plots\n",
    "def remove_Outliers(patients):\n",
    "    patients.HCT = pd.Series(sp.stats.mstats.winsorize(patients.HCT,limits=[0.02,0.02],inplace=False))\n",
    "    patients.Glucose = pd.Series(sp.stats.mstats.winsorize(patients.Glucose,limits=[0.02,0.02],inplace=False))\n",
    "    patients.FiO2 = pd.Series(sp.stats.mstats.winsorize(patients.FiO2,limits=[0.02,0.02],inplace=False))\n",
    "    patients.Temp = pd.Series(sp.stats.mstats.winsorize(patients.WBC,limits=[0.02,0.02],inplace=False))\n",
    "    patients.WBC = pd.Series(sp.stats.mstats.winsorize(patients.HCT,limits=[0.02,0.02],inplace=False))\n",
    "    return patients"
   ]
  },
  {
   "cell_type": "code",
   "execution_count": 5,
   "metadata": {
    "collapsed": true
   },
   "source": [
    "#Get paitents with selected columns\n",
    "num_patients = 500 # Number of patients\n",
    "columns = ['HR','HCT','FiO2','Glucose','Temp','WBC','GCS','Urine','Age','Gender','Length_of_stay','DeathStatus'] \n",
    "#Select the columns of interest\n",
    "patients = pd.DataFrame(index=np.arange(num_patients),columns=columns)\n",
    "outcome = pd.read_csv(\"Outcomes-a.txt\",sep=',')\n",
    "i=0\n",
    "for j in np.arange(len(outcome)):\n",
    "    if(i<num_patients): \n",
    "        patient = pd.read_csv(str(outcome.RecordID[j]) + \".txt\",sep=',')\n",
    "        skip=False\n",
    "        for k in np.arange(len(columns)):\n",
    "            \n",
    "#     Skip patient if not all the selected columns have values\n",
    "         if(k < 9) and (not columns[k] in np.unique(patient.Parameter).tolist()):\n",
    "        \n",
    "#     print('Missing: ' + columns[k])\n",
    "             skip=True\n",
    "        if(not skip):\n",
    "            \n",
    "#  Populate the selected columns for this patient\n",
    "            patients.iloc[i].HR = patient[patient.Parameter =='HR'].iloc[-1].Value\n",
    "            patients.iloc[i].HCT = patient[patient.Parameter =='HCT'].iloc[-1].Value\n",
    "            patients.iloc[i].Glucose = patient[patient.Parameter =='Glucose'].iloc[-1].Value\n",
    "            patients.iloc[i].FiO2 = patient[patient.Parameter =='FiO2'].iloc[-1].Value\n",
    "            patients.iloc[i].Temp = patient[patient.Parameter =='Temp'].iloc[-1].Value\n",
    "            patients.iloc[i].WBC = patient[patient.Parameter =='WBC'].iloc[-1].Value\n",
    "            patients.iloc[i].GCS = patient[patient.Parameter =='GCS'].iloc[-1].Value\n",
    "            patients.iloc[i].Urine = patient[patient.Parameter =='Urine'].iloc[-1].Value\n",
    "            patients.iloc[i].Age = patient[patient.Parameter =='Age'].iloc[0].Value\n",
    "            patients.iloc[i].Gender = patient[patient.Parameter =='Gender'].iloc[0].Value\n",
    "            patients.iloc[i].Length_of_stay = outcome[outcome.RecordID ==outcome.RecordID[j]].Length_of_stay.values[0]\n",
    "            patients.iloc[i].DeathStatus = outcome[outcome.RecordID ==outcome.RecordID[j]]['In-hospital_death'].values[0]\n",
    "            i = i+1\n"
   ]
  },
  {
   "cell_type": "code",
   "execution_count": null,
   "metadata": {},
   "outputs": [],
   "source": [
    "#Add patient number\n",
    "patients.insert(loc=0,column='patient_num',value=pd.Series(np.arange(num_patients)))\n",
    "# Now we have num_paitents unique patients with 'HR','HCT','FiO2','Glucose','Temp','WBC','GCS','Age','Gender','Length_of_stay', and 'DeathStatus'\n",
    "\n",
    "#Change the flag to Alive and Dead\n",
    "patients.loc[patients.DeathStatus==0,'DeathStatus'] ='Alive'\n",
    "patients.loc[patients.DeathStatus==1,'DeathStatus'] ='Dead'\n",
    "\n",
    "#Raw data plots\n",
    "plot_patients(patients)\n",
    "\n",
    "#Winsorized data plots\n",
    "plot_patients(remove_Outliers(patients))\n"
   ]
  },
  {
   "cell_type": "code",
   "execution_count": null,
   "metadata": {},
   "outputs": [],
   "source": [
    "#PCA\n",
    "features = ['HR','HCT','FiO2','Glucose','Temp','WBC','GCS','Urine','Age','Gender','Length_of_stay']\n",
    "# Separating out the features\n",
    "x = remove_Outliers(patients).loc[:, features].values\n",
    "# Separating out the target\n",
    "y = patients.loc[:,['DeathStatus']].values\n",
    "# Standardizing the features\n",
    "x = sk.preprocessing.StandardScaler().fit_transform(x)"
   ]
  },
  {
   "cell_type": "code",
   "execution_count": null,
   "metadata": {},
   "outputs": [],
   "source": [
    "#Show side by side after standardizing\n",
    "remove_Outliers(patients).loc[:5, features]\n",
    "pd.DataFrame(x,columns=features).loc[:5, features]\n"
   ]
  },
  {
   "cell_type": "code",
   "execution_count": null,
   "metadata": {},
   "outputs": [],
   "source": [
    "\n",
    "#Run PCA\n",
    "pca = sk.decomposition.PCA()\n",
    "principalComponents = pca.fit_transform(x)\n",
    "components= ['principal component 1', 'principal component 2', 'principal component 3', 'principal component 4', 'principal component 5', 'principal component 6', 'principal component 7', 'principal component 8', 'principal component 9', 'principal component 10', 'principal component 11']\n",
    "principalDf = pd.DataFrame(data = principalComponents, columns = components)\n",
    "\n",
    "#Concatenate output or response column to the prinicipal components dataframe\n",
    "finalDf = pd.concat([principalDf, patients[['DeathStatus']]], axis = 1)\n"
   ]
  },
  {
   "cell_type": "code",
   "execution_count": 7,
   "metadata": {
    "collapsed": true
   },
   "source": [
    "#Plot Components against each other and review the data points for alive and dead patients\n",
    "for i in np.arange(len(components)):\n",
    "    for j in np.arange(i+1,len(components)):\n",
    "        if(i==j):\n",
    "            break\n",
    "        else:       \n",
    "            fig = plt.figure(figsize = (10,10))\n",
    "            ax = fig.add_subplot(1,1,1)\n",
    "            ax.set_xlabel(components[i], fontsize = 15)\n",
    "            ax.set_ylabel(components[j], fontsize = 15)\n",
    "            ax.set_title('2 component PCA', fontsize = 20)\n",
    "            targets = [ 'Alive','Dead']\n",
    "            colors = ['g', 'r']\n",
    "            for target, color in zip(targets,colors):\n",
    "                indicesToKeep = finalDf.index[finalDf.DeathStatus==target]\n",
    "                ax.scatter(finalDf.loc[indicesToKeep, components[i]]\n",
    "                           , finalDf.loc[ indicesToKeep, components[j]]\n",
    "                           , c = color\n",
    "                           , s = 50)\n",
    "            ax.legend(targets)\n",
    "            ax.grid()"
   ]
  },
  {
   "cell_type": "code",
   "execution_count": 16,
   "metadata": {
    "collapsed": true
   },
   "source": [
    "#Get the correlations between the components\n",
    "compsVariances = pd.DataFrame(pca.get_covariance(),index=components,columns=components)\n",
    "compsVariances.to_excel('covariance_matrix.xlsx',index=True)\n",
    "\n",
    "# Get Eignevalues in the descending order and plot cumutively\n",
    "pca.explained_variance_ratio_\n",
    "fig = plt.figure(figsize=(10,10))\n",
    "plt.plot(np.arange(len(components)),np.cumsum(np.round(pca.explained_variance_ratio_, decimals=3)*100))\n",
    "plt.ylabel('% Variance Explained')\n",
    "plt.xlabel('# of Components')\n",
    "plt.title('PCA Analysis')\n",
    "plt.ylim(30,100.5)\n",
    "plt.grid()\n",
    "plt.style.context('seaborn-whitegrid')"
   ]
  },
  {
   "cell_type": "code",
   "execution_count": null,
   "metadata": {},
   "outputs": [],
   "source": []
  }
 ],
 "metadata": {
  "kernelspec": {
   "display_name": "Python 3",
   "language": "python",
   "name": "python3"
  },
  "language_info": {
   "codemirror_mode": {
    "name": "ipython",
    "version": 3
   },
   "file_extension": ".py",
   "mimetype": "text/x-python",
   "name": "python",
   "nbconvert_exporter": "python",
   "pygments_lexer": "ipython3",
   "version": "3.7.1"
  }
 },
 "nbformat": 4,
 "nbformat_minor": 2
}
